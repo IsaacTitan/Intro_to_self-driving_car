{
 "cells": [
  {
   "cell_type": "code",
   "execution_count": 3,
   "metadata": {},
   "outputs": [
    {
     "name": "stdout",
     "output_type": "stream",
     "text": [
      "The autoreload extension is already loaded. To reload it, use:\n",
      "  %reload_ext autoreload\n"
     ]
    }
   ],
   "source": [
    "# Run this cell but don't modify it.\n",
    "\n",
    "%load_ext autoreload\n",
    "%autoreload 2\n",
    "from matrix import Matrix, zeroes, identity"
   ]
  },
  {
   "cell_type": "code",
   "execution_count": 4,
   "metadata": {},
   "outputs": [
    {
     "name": "stdout",
     "output_type": "stream",
     "text": [
      "m1 is\n",
      "1  2 \n",
      "3  4 \n",
      "\n",
      "m2 is\n",
      "2  5 \n",
      "6  1 \n",
      "\n",
      "we've also provided you with a function called zeros\n",
      "here's what happens when you call zeros(4,2)\n",
      "0.0  0.0 \n",
      "0.0  0.0 \n",
      "0.0  0.0 \n",
      "0.0  0.0 \n",
      "\n",
      "we've also provided you with a function called identity\n",
      "here's identity(3)\n",
      "1.0  0.0  0.0 \n",
      "0.0  1.0  0.0 \n",
      "0.0  0.0  1.0 \n",
      "\n",
      "but not everything works yet!\n",
      "for example, matrix addition...\n",
      "run the cell below to see what happens when we try...\n"
     ]
    }
   ],
   "source": [
    "# some functionality already exists... here's a demo\n",
    "\n",
    "m1 = Matrix([\n",
    "    [1, 2],\n",
    "    [3, 4]\n",
    "])\n",
    "\n",
    "m2 = Matrix([\n",
    "    [2, 5],\n",
    "    [6, 1]\n",
    "])\n",
    "\n",
    "print(\"m1 is\")\n",
    "print(m1)\n",
    "\n",
    "print(\"m2 is\")\n",
    "print(m2)\n",
    "\n",
    "print(\"we've also provided you with a function called zeros\")\n",
    "print(\"here's what happens when you call zeros(4,2)\")\n",
    "print(zeroes(4,2))\n",
    "\n",
    "print(\"we've also provided you with a function called identity\")\n",
    "print(\"here's identity(3)\")\n",
    "print(identity(3))\n",
    "\n",
    "print(\"but not everything works yet!\")\n",
    "print(\"for example, matrix addition...\")\n",
    "print(\"run the cell below to see what happens when we try...\")"
   ]
  },
  {
   "cell_type": "code",
   "execution_count": 5,
   "metadata": {},
   "outputs": [
    {
     "name": "stdout",
     "output_type": "stream",
     "text": [
      "m1 + m2 is\n",
      "None\n"
     ]
    }
   ],
   "source": [
    "m1 = Matrix([\n",
    "    [1, 2],\n",
    "    [3, 4]\n",
    "])\n",
    "\n",
    "m2 = Matrix([\n",
    "    [2, 5],\n",
    "    [6, 1]\n",
    "])\n",
    "\n",
    "m3 = m1 + m2\n",
    "print(\"m1 + m2 is\")\n",
    "print(m3)"
   ]
  },
  {
   "cell_type": "code",
   "execution_count": 27,
   "metadata": {},
   "outputs": [
    {
     "name": "stdout",
     "output_type": "stream",
     "text": [
      "Congratulations! All tests pass. Your Matrix class is working as expected.\n"
     ]
    }
   ],
   "source": [
    "# Try running this code. You should get an assertion error. \n",
    "# You will continue to get assertion errors until all the \n",
    "# methods in matrix.py are correctly implemented.\n",
    "\n",
    "# You can open matrix.py by selecting File > Open... \n",
    "import test\n"
   ]
  },
  {
   "cell_type": "code",
   "execution_count": 28,
   "metadata": {},
   "outputs": [],
   "source": [
    "# open matrix.py (File > Open...) and start\n",
    "# implementing matrix methods! \n",
    "\n",
    "# when your code passes all the tests you can submit by \n",
    "# pressing the SUBMIT button in the lower right corner \n",
    "# of this page."
   ]
  },
  {
   "cell_type": "code",
   "execution_count": 29,
   "metadata": {},
   "outputs": [
    {
     "data": {
      "text/html": [
       "<div>\n",
       "<style scoped>\n",
       "    .dataframe tbody tr th:only-of-type {\n",
       "        vertical-align: middle;\n",
       "    }\n",
       "\n",
       "    .dataframe tbody tr th {\n",
       "        vertical-align: top;\n",
       "    }\n",
       "\n",
       "    .dataframe thead th {\n",
       "        text-align: right;\n",
       "    }\n",
       "</style>\n",
       "<table border=\"1\" class=\"dataframe\">\n",
       "  <thead>\n",
       "    <tr style=\"text-align: right;\">\n",
       "      <th></th>\n",
       "      <th>time</th>\n",
       "      <th>distance</th>\n",
       "      <th>velocity</th>\n",
       "      <th>acceleration</th>\n",
       "    </tr>\n",
       "  </thead>\n",
       "  <tbody>\n",
       "    <tr>\n",
       "      <th>0</th>\n",
       "      <td>0</td>\n",
       "      <td>5.000000</td>\n",
       "      <td>100.0</td>\n",
       "      <td>-129600.0</td>\n",
       "    </tr>\n",
       "    <tr>\n",
       "      <th>1</th>\n",
       "      <td>50</td>\n",
       "      <td>6.376389</td>\n",
       "      <td>98.2</td>\n",
       "      <td>-129600.0</td>\n",
       "    </tr>\n",
       "    <tr>\n",
       "      <th>2</th>\n",
       "      <td>100</td>\n",
       "      <td>7.727778</td>\n",
       "      <td>96.4</td>\n",
       "      <td>-129600.0</td>\n",
       "    </tr>\n",
       "    <tr>\n",
       "      <th>3</th>\n",
       "      <td>150</td>\n",
       "      <td>9.054167</td>\n",
       "      <td>94.6</td>\n",
       "      <td>-129600.0</td>\n",
       "    </tr>\n",
       "    <tr>\n",
       "      <th>4</th>\n",
       "      <td>200</td>\n",
       "      <td>10.355556</td>\n",
       "      <td>92.8</td>\n",
       "      <td>-129600.0</td>\n",
       "    </tr>\n",
       "  </tbody>\n",
       "</table>\n",
       "</div>"
      ],
      "text/plain": [
       "   time   distance  velocity  acceleration\n",
       "0     0   5.000000     100.0     -129600.0\n",
       "1    50   6.376389      98.2     -129600.0\n",
       "2   100   7.727778      96.4     -129600.0\n",
       "3   150   9.054167      94.6     -129600.0\n",
       "4   200  10.355556      92.8     -129600.0"
      ]
     },
     "execution_count": 29,
     "metadata": {},
     "output_type": "execute_result"
    }
   ],
   "source": [
    "%matplotlib inline\n",
    "\n",
    "import pandas as pd\n",
    "import math\n",
    "import matplotlib.pyplot as plt\n",
    "import matplotlib\n",
    "import datagenerator\n",
    "import matrix as m\n",
    "\n",
    "matplotlib.rcParams.update({'font.size': 16})\n",
    "\n",
    "# data_groundtruth() has the following inputs:\n",
    "# Generates Data\n",
    "# Input variables are:\n",
    "# initial position meters\n",
    "# initial velocity km/h\n",
    "# final velocity (should be a negative number) km/h\n",
    "# acceleration (should be a negative number) m/s^2\n",
    "# how long the vehicle should idle \n",
    "# how long the vehicle should drive in reverse at constant velocity\n",
    "# time between lidar measurements in milliseconds\n",
    "\n",
    "time_groundtruth, distance_groundtruth, velocity_groundtruth, acceleration_groundtruth = datagenerator.generate_data(5, 100, -10, -10,\n",
    "                                                                                              5000, 5000, 50)\n",
    "data_groundtruth = pd.DataFrame(\n",
    "    {'time': time_groundtruth,\n",
    "     'distance': distance_groundtruth,\n",
    "     'velocity': velocity_groundtruth,\n",
    "     'acceleration': acceleration_groundtruth\n",
    "    })\n",
    "\n",
    "data_groundtruth.head()"
   ]
  },
  {
   "cell_type": "code",
   "execution_count": 30,
   "metadata": {
    "scrolled": true
   },
   "outputs": [
    {
     "data": {
      "text/plain": [
       "[Text(0,0.5,'distance (meters)'), Text(0.5,0,'time (milliseconds)')]"
      ]
     },
     "execution_count": 30,
     "metadata": {},
     "output_type": "execute_result"
    },
    {
     "data": {
      "image/png": "[encoded data removed]",
      "text/plain": [
       "<matplotlib.figure.Figure at 0x7f8d69d384a8>"
      ]
     },
     "metadata": {
      "needs_background": "light"
     },
     "output_type": "display_data"
    }
   ],
   "source": [
    "ax1 = data_groundtruth.plot(kind='line', x='time', y='distance', title='Object Distance Versus Time')\n",
    "ax1.set(xlabel='time (milliseconds)', ylabel='distance (meters)')"
   ]
  },
  {
   "cell_type": "code",
   "execution_count": 31,
   "metadata": {},
   "outputs": [
    {
     "data": {
      "text/html": [
       "<div>\n",
       "<style scoped>\n",
       "    .dataframe tbody tr th:only-of-type {\n",
       "        vertical-align: middle;\n",
       "    }\n",
       "\n",
       "    .dataframe tbody tr th {\n",
       "        vertical-align: top;\n",
       "    }\n",
       "\n",
       "    .dataframe thead th {\n",
       "        text-align: right;\n",
       "    }\n",
       "</style>\n",
       "<table border=\"1\" class=\"dataframe\">\n",
       "  <thead>\n",
       "    <tr style=\"text-align: right;\">\n",
       "      <th></th>\n",
       "      <th>time</th>\n",
       "      <th>distance</th>\n",
       "      <th>velocity</th>\n",
       "      <th>acceleration</th>\n",
       "    </tr>\n",
       "  </thead>\n",
       "  <tbody>\n",
       "    <tr>\n",
       "      <th>0</th>\n",
       "      <td>0</td>\n",
       "      <td>5.000000</td>\n",
       "      <td>100.0</td>\n",
       "      <td>-10.0</td>\n",
       "    </tr>\n",
       "    <tr>\n",
       "      <th>1</th>\n",
       "      <td>50</td>\n",
       "      <td>6.376389</td>\n",
       "      <td>98.2</td>\n",
       "      <td>-10.0</td>\n",
       "    </tr>\n",
       "    <tr>\n",
       "      <th>2</th>\n",
       "      <td>100</td>\n",
       "      <td>7.727778</td>\n",
       "      <td>96.4</td>\n",
       "      <td>-10.0</td>\n",
       "    </tr>\n",
       "    <tr>\n",
       "      <th>3</th>\n",
       "      <td>150</td>\n",
       "      <td>9.054167</td>\n",
       "      <td>94.6</td>\n",
       "      <td>-10.0</td>\n",
       "    </tr>\n",
       "    <tr>\n",
       "      <th>4</th>\n",
       "      <td>200</td>\n",
       "      <td>10.355556</td>\n",
       "      <td>92.8</td>\n",
       "      <td>-10.0</td>\n",
       "    </tr>\n",
       "  </tbody>\n",
       "</table>\n",
       "</div>"
      ],
      "text/plain": [
       "   time   distance  velocity  acceleration\n",
       "0     0   5.000000     100.0         -10.0\n",
       "1    50   6.376389      98.2         -10.0\n",
       "2   100   7.727778      96.4         -10.0\n",
       "3   150   9.054167      94.6         -10.0\n",
       "4   200  10.355556      92.8         -10.0"
      ]
     },
     "execution_count": 31,
     "metadata": {},
     "output_type": "execute_result"
    }
   ],
   "source": [
    "data_groundtruth['acceleration'] = data_groundtruth['acceleration'] * 1000 / math.pow(60 * 60, 2)\n",
    "data_groundtruth.head()"
   ]
  },
  {
   "cell_type": "code",
   "execution_count": 60,
   "metadata": {},
   "outputs": [
    {
     "data": {
      "text/html": [
       "<div>\n",
       "<style scoped>\n",
       "    .dataframe tbody tr th:only-of-type {\n",
       "        vertical-align: middle;\n",
       "    }\n",
       "\n",
       "    .dataframe tbody tr th {\n",
       "        vertical-align: top;\n",
       "    }\n",
       "\n",
       "    .dataframe thead th {\n",
       "        text-align: right;\n",
       "    }\n",
       "</style>\n",
       "<table border=\"1\" class=\"dataframe\">\n",
       "  <thead>\n",
       "    <tr style=\"text-align: right;\">\n",
       "      <th></th>\n",
       "      <th>time</th>\n",
       "      <th>distance</th>\n",
       "      <th>lidar</th>\n",
       "    </tr>\n",
       "  </thead>\n",
       "  <tbody>\n",
       "    <tr>\n",
       "      <th>255</th>\n",
       "      <td>12750</td>\n",
       "      <td>31.377778</td>\n",
       "      <td>31.679157</td>\n",
       "    </tr>\n",
       "    <tr>\n",
       "      <th>256</th>\n",
       "      <td>12800</td>\n",
       "      <td>31.252778</td>\n",
       "      <td>31.462726</td>\n",
       "    </tr>\n",
       "    <tr>\n",
       "      <th>257</th>\n",
       "      <td>12850</td>\n",
       "      <td>31.127778</td>\n",
       "      <td>31.057684</td>\n",
       "    </tr>\n",
       "    <tr>\n",
       "      <th>258</th>\n",
       "      <td>12900</td>\n",
       "      <td>31.002778</td>\n",
       "      <td>30.863112</td>\n",
       "    </tr>\n",
       "    <tr>\n",
       "      <th>259</th>\n",
       "      <td>12950</td>\n",
       "      <td>30.877778</td>\n",
       "      <td>31.002841</td>\n",
       "    </tr>\n",
       "  </tbody>\n",
       "</table>\n",
       "</div>"
      ],
      "text/plain": [
       "      time   distance      lidar\n",
       "255  12750  31.377778  31.679157\n",
       "256  12800  31.252778  31.462726\n",
       "257  12850  31.127778  31.057684\n",
       "258  12900  31.002778  30.863112\n",
       "259  12950  30.877778  31.002841"
      ]
     },
     "execution_count": 60,
     "metadata": {},
     "output_type": "execute_result"
    }
   ],
   "source": [
    "# make lidar measurements\n",
    "lidar_standard_deviation = 0.15\n",
    "lidar_measurements = datagenerator.generate_lidar(distance_groundtruth, lidar_standard_deviation)\n",
    "lidar_time = time_groundtruth\n",
    "data_lidar = pd.DataFrame(\n",
    "    {'time': time_groundtruth,\n",
    "     'distance': distance_groundtruth,\n",
    "     'lidar': lidar_measurements\n",
    "    })\n",
    "data_lidar.tail()"
   ]
  },
  {
   "cell_type": "code",
   "execution_count": 47,
   "metadata": {},
   "outputs": [
    {
     "data": {
      "text/plain": [
       "<function __main__.Q_matrix(delta_t, variance)>"
      ]
     },
     "execution_count": 47,
     "metadata": {},
     "output_type": "execute_result"
    }
   ],
   "source": [
    "# Kalman Filter Initialization\n",
    "\n",
    "initial_distance = 0\n",
    "initial_velocity = 0\n",
    "\n",
    "x_initial = m.Matrix([[initial_distance], [initial_velocity * 1e-3 / (60 * 60)]])\n",
    "P_initial = m.Matrix([[5, 0],[0, 5]])\n",
    "acceleration_variance = 50\n",
    "lidar_variance = math.pow(lidar_standard_deviation, 2)\n",
    "lidar_variance\n",
    "\n",
    "H = m.Matrix([[1, 0]])\n",
    "R = m.Matrix([[lidar_variance]])\n",
    "I = m.identity(2)\n",
    "\n",
    "def F_matrix(delta_t):\n",
    "    return m.Matrix([[1, delta_t], [0, 1]])\n",
    "\n",
    "def Q_matrix(delta_t, variance):\n",
    "    t4 = math.pow(delta_t, 4)\n",
    "    t3 = math.pow(delta_t, 3)\n",
    "    t2 = math.pow(delta_t, 2)\n",
    "    \n",
    "    return variance * m.Matrix([[(1/4)*t4, (1/2)*t3], [(1/2)*t3, t2]])\n",
    "Q_matrix"
   ]
  },
  {
   "cell_type": "code",
   "execution_count": 59,
   "metadata": {},
   "outputs": [
    {
     "data": {
      "text/plain": [
       "260"
      ]
     },
     "execution_count": 59,
     "metadata": {},
     "output_type": "execute_result"
    }
   ],
   "source": [
    "# Kalman Filter Implementation\n",
    "\n",
    "x = x_initial\n",
    "P = P_initial\n",
    "\n",
    "x_result = []\n",
    "time_result = []\n",
    "v_result = []\n",
    "\n",
    "\n",
    "for i in range(len(lidar_measurements) - 1):\n",
    "        \n",
    "    # calculate time that has passed between lidar measurements\n",
    "    delta_t = (lidar_time[i + 1] - lidar_time[i]) / 1000.0\n",
    "    z = m.Matrix([[lidar_measurements[i + 1]]])\n",
    "\n",
    "\n",
    "yyy = len(lidar_measurements)\n",
    "yyy"
   ]
  },
  {
   "cell_type": "code",
   "execution_count": 66,
   "metadata": {},
   "outputs": [
    {
     "data": {
      "text/html": [
       "<div>\n",
       "<style scoped>\n",
       "    .dataframe tbody tr th:only-of-type {\n",
       "        vertical-align: middle;\n",
       "    }\n",
       "\n",
       "    .dataframe tbody tr th {\n",
       "        vertical-align: top;\n",
       "    }\n",
       "\n",
       "    .dataframe thead th {\n",
       "        text-align: right;\n",
       "    }\n",
       "</style>\n",
       "<table border=\"1\" class=\"dataframe\">\n",
       "  <thead>\n",
       "    <tr style=\"text-align: right;\">\n",
       "      <th></th>\n",
       "      <th>time</th>\n",
       "      <th>distance</th>\n",
       "      <th>velocity</th>\n",
       "      <th>velocity1</th>\n",
       "    </tr>\n",
       "  </thead>\n",
       "  <tbody>\n",
       "    <tr>\n",
       "      <th>254</th>\n",
       "      <td>12750</td>\n",
       "      <td>31.375343</td>\n",
       "      <td>-9.692974</td>\n",
       "      <td>-2.692493</td>\n",
       "    </tr>\n",
       "    <tr>\n",
       "      <th>255</th>\n",
       "      <td>12800</td>\n",
       "      <td>31.325942</td>\n",
       "      <td>-8.214315</td>\n",
       "      <td>-2.281754</td>\n",
       "    </tr>\n",
       "    <tr>\n",
       "      <th>256</th>\n",
       "      <td>12850</td>\n",
       "      <td>31.152672</td>\n",
       "      <td>-9.241147</td>\n",
       "      <td>-2.566985</td>\n",
       "    </tr>\n",
       "    <tr>\n",
       "      <th>257</th>\n",
       "      <td>12900</td>\n",
       "      <td>30.962438</td>\n",
       "      <td>-10.314876</td>\n",
       "      <td>-2.865243</td>\n",
       "    </tr>\n",
       "    <tr>\n",
       "      <th>258</th>\n",
       "      <td>12950</td>\n",
       "      <td>30.889680</td>\n",
       "      <td>-9.091594</td>\n",
       "      <td>-2.525443</td>\n",
       "    </tr>\n",
       "  </tbody>\n",
       "</table>\n",
       "</div>"
      ],
      "text/plain": [
       "      time   distance   velocity  velocity1\n",
       "254  12750  31.375343  -9.692974  -2.692493\n",
       "255  12800  31.325942  -8.214315  -2.281754\n",
       "256  12850  31.152672  -9.241147  -2.566985\n",
       "257  12900  30.962438 -10.314876  -2.865243\n",
       "258  12950  30.889680  -9.091594  -2.525443"
      ]
     },
     "execution_count": 66,
     "metadata": {},
     "output_type": "execute_result"
    }
   ],
   "source": [
    "# Kalman Filter Implementation\n",
    "\n",
    "x = x_initial\n",
    "P = P_initial\n",
    "\n",
    "x_result = []\n",
    "time_result = []\n",
    "v_result = []\n",
    "v_result1 = []\n",
    "\n",
    "for i in range(len(lidar_measurements) - 1):\n",
    "        \n",
    "    # calculate time that has passed between lidar measurements\n",
    "    delta_t = (lidar_time[i + 1] - lidar_time[i]) / 1000.0\n",
    "\n",
    "    # Prediction Step - estimates how far the object traveled during the time interval\n",
    "    F = F_matrix(delta_t)\n",
    "    Q = Q_matrix(delta_t, acceleration_variance)\n",
    "    \n",
    "    x_prime = F * x\n",
    "    P_prime = F * P * F.T() + Q\n",
    "    \n",
    "    # Measurement Update Step - updates belief based on lidar measurement\n",
    "    y = m.Matrix([[lidar_measurements[i + 1]]]) - H * x_prime\n",
    "    S = H * P_prime * H.T() + R\n",
    "    K = P_prime * H.T() * S.inverse()\n",
    "    x = x_prime + K * y\n",
    "    P = (I - K * H) * P_prime\n",
    "\n",
    "    # Store distance and velocity belief and current time\n",
    "    x_result.append(x[0][0])\n",
    "    v_result.append(3600.0/1000 * x[1][0])\n",
    "    v_result1.append(x[1][0])\n",
    "    time_result.append(lidar_time[i+1])\n",
    "    \n",
    "result = pd.DataFrame(\n",
    "    {'time': time_result,\n",
    "     'distance': x_result,\n",
    "     'velocity': v_result,\n",
    "     'velocity1': v_result1\n",
    "    })\n",
    "\n",
    "result.tail()"
   ]
  },
  {
   "cell_type": "code",
   "execution_count": null,
   "metadata": {},
   "outputs": [],
   "source": []
  }
 ],
 "metadata": {
  "kernelspec": {
   "display_name": "Python 3",
   "language": "python",
   "name": "python3"
  },
  "language_info": {
   "codemirror_mode": {
    "name": "ipython",
    "version": 3
   },
   "file_extension": ".py",
   "mimetype": "text/x-python",
   "name": "python",
   "nbconvert_exporter": "python",
   "pygments_lexer": "ipython3",
   "version": "3.6.3"
  }
 },
 "nbformat": 4,
 "nbformat_minor": 2
}
